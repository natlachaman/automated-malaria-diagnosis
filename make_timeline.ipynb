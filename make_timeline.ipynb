{
 "cells": [
  {
   "cell_type": "code",
   "execution_count": 65,
   "metadata": {},
   "outputs": [],
   "source": [
    "import pandas as pd\n",
    "import numpy as np\n",
    "# import matplotlib\n",
    "# import matplotlib.pyplot as plt\n",
    "# matplotlib.style.use('ggplot')\n",
    "import seaborn as sns\n",
    "import altair as alt\n",
    "alt.renderers.enable('notebook')\n"
   ]
  },
  {
   "cell_type": "code",
   "execution_count": 66,
   "metadata": {},
   "outputs": [
    {
     "data": {
      "text/html": [
       "<div>\n",
       "<table border=\"1\" class=\"dataframe\">\n",
       "  <thead>\n",
       "    <tr style=\"text-align: right;\">\n",
       "      <th></th>\n",
       "      <th>model</th>\n",
       "      <th>stage</th>\n",
       "      <th>GPU</th>\n",
       "      <th>CPU</th>\n",
       "    </tr>\n",
       "  </thead>\n",
       "  <tbody>\n",
       "    <tr>\n",
       "      <th>0</th>\n",
       "      <td>256</td>\n",
       "      <td>pre</td>\n",
       "      <td>46.12</td>\n",
       "      <td>113.11299</td>\n",
       "    </tr>\n",
       "    <tr>\n",
       "      <th>1</th>\n",
       "      <td>512</td>\n",
       "      <td>pre</td>\n",
       "      <td>43.96</td>\n",
       "      <td>96.77946</td>\n",
       "    </tr>\n",
       "    <tr>\n",
       "      <th>2</th>\n",
       "      <td>768</td>\n",
       "      <td>pre</td>\n",
       "      <td>43.11</td>\n",
       "      <td>110.62485</td>\n",
       "    </tr>\n",
       "    <tr>\n",
       "      <th>3</th>\n",
       "      <td>256</td>\n",
       "      <td>inference</td>\n",
       "      <td>21.67</td>\n",
       "      <td>122.87305</td>\n",
       "    </tr>\n",
       "    <tr>\n",
       "      <th>4</th>\n",
       "      <td>512</td>\n",
       "      <td>inference</td>\n",
       "      <td>110.35</td>\n",
       "      <td>350.84562</td>\n",
       "    </tr>\n",
       "    <tr>\n",
       "      <th>5</th>\n",
       "      <td>768</td>\n",
       "      <td>inference</td>\n",
       "      <td>162.07</td>\n",
       "      <td>860.35038</td>\n",
       "    </tr>\n",
       "    <tr>\n",
       "      <th>6</th>\n",
       "      <td>256</td>\n",
       "      <td>post</td>\n",
       "      <td>16.29</td>\n",
       "      <td>21.07799</td>\n",
       "    </tr>\n",
       "    <tr>\n",
       "      <th>7</th>\n",
       "      <td>512</td>\n",
       "      <td>post</td>\n",
       "      <td>10.19</td>\n",
       "      <td>6.93560</td>\n",
       "    </tr>\n",
       "    <tr>\n",
       "      <th>8</th>\n",
       "      <td>768</td>\n",
       "      <td>post</td>\n",
       "      <td>7.62</td>\n",
       "      <td>16.10964</td>\n",
       "    </tr>\n",
       "  </tbody>\n",
       "</table>\n",
       "</div>"
      ],
      "text/plain": [
       "   model      stage     GPU        CPU\n",
       "0    256        pre   46.12  113.11299\n",
       "1    512        pre   43.96   96.77946\n",
       "2    768        pre   43.11  110.62485\n",
       "3    256  inference   21.67  122.87305\n",
       "4    512  inference  110.35  350.84562\n",
       "5    768  inference  162.07  860.35038\n",
       "6    256       post   16.29   21.07799\n",
       "7    512       post   10.19    6.93560\n",
       "8    768       post    7.62   16.10964"
      ]
     },
     "execution_count": 66,
     "metadata": {},
     "output_type": "execute_result"
    }
   ],
   "source": [
    "df = pd.read_csv('../execution-times.csv', delimiter=',')\n",
    "df.rename(columns={'python-gpu2': 'GPU', 'python-cpu': 'CPU'}, inplace=True)\n",
    "# df.drop(['tf'], 1)\n",
    "# df.drop(['num of crops'], 1)\n",
    "# df.drop(['python-gpu1'], 1)\n",
    "df = df[df.index[[0, 1, 4, 5]]]\n",
    "# df.loc[:, 'python'] *= 1000 # in ms\n",
    "# df.loc[3, 'python'] *= 12\n",
    "# df.loc[4, 'python'] *= 4\n",
    "# df.loc[5, 'python'] *= 2\n",
    "\n",
    "# df.loc[3, 'tf'] /= 12\n",
    "# df.loc[4, 'tf'] /= 4\n",
    "# df.loc[5, 'tf'] /= 2\n",
    "\n",
    "df"
   ]
  },
  {
   "cell_type": "code",
   "execution_count": 67,
   "metadata": {},
   "outputs": [
    {
     "data": {
      "text/html": [
       "<div>\n",
       "<table border=\"1\" class=\"dataframe\">\n",
       "  <thead>\n",
       "    <tr style=\"text-align: right;\">\n",
       "      <th></th>\n",
       "      <th>index</th>\n",
       "      <th>model</th>\n",
       "      <th>GPU</th>\n",
       "      <th>CPU</th>\n",
       "    </tr>\n",
       "  </thead>\n",
       "  <tbody>\n",
       "    <tr>\n",
       "      <th>0</th>\n",
       "      <td>0</td>\n",
       "      <td>256</td>\n",
       "      <td>46.12</td>\n",
       "      <td>113.11299</td>\n",
       "    </tr>\n",
       "    <tr>\n",
       "      <th>1</th>\n",
       "      <td>1</td>\n",
       "      <td>512</td>\n",
       "      <td>43.96</td>\n",
       "      <td>96.77946</td>\n",
       "    </tr>\n",
       "    <tr>\n",
       "      <th>2</th>\n",
       "      <td>2</td>\n",
       "      <td>768</td>\n",
       "      <td>43.11</td>\n",
       "      <td>110.62485</td>\n",
       "    </tr>\n",
       "  </tbody>\n",
       "</table>\n",
       "</div>"
      ],
      "text/plain": [
       "   index  model    GPU        CPU\n",
       "0      0    256  46.12  113.11299\n",
       "1      1    512  43.96   96.77946\n",
       "2      2    768  43.11  110.62485"
      ]
     },
     "execution_count": 67,
     "metadata": {},
     "output_type": "execute_result"
    }
   ],
   "source": [
    "df1 = df[df['stage'] == 'pre'].drop(['stage'], 1).reset_index()\n",
    "df2 = df[df['stage'] == 'inference'].drop(['stage'], 1).reset_index()\n",
    "df3 = df[df['stage'] == 'post'].drop(['stage'], 1).reset_index()\n",
    "df1"
   ]
  },
  {
   "cell_type": "code",
   "execution_count": 68,
   "metadata": {},
   "outputs": [],
   "source": [
    "def prep_df(df, name):\n",
    "    df = df.stack().reset_index()\n",
    "    df.columns = ['Model', 'Engine', 'values']\n",
    "    df['Stage'] = name\n",
    "    return df\n",
    "\n",
    "df1 = prep_df(df1, 'Pre-processing')\n",
    "df2 = prep_df(df2, 'Inference')\n",
    "df3 = prep_df(df3, 'Post-processing')\n",
    "\n",
    "df = pd.concat([df1, df2, df3])\n",
    "df = df.drop(df[df.Engine == 'index'].index)\n",
    "df = df.drop(df[df.Engine == 'model'].index)\n",
    "\n",
    "df['Model'] = df['Model'].map({0: 'SSD-256', 1: 'SSD-512', 2: 'SSD-768'})"
   ]
  },
  {
   "cell_type": "code",
   "execution_count": 69,
   "metadata": {},
   "outputs": [
    {
     "data": {
      "text/html": [
       "<div>\n",
       "<table border=\"1\" class=\"dataframe\">\n",
       "  <thead>\n",
       "    <tr style=\"text-align: right;\">\n",
       "      <th></th>\n",
       "      <th>Model</th>\n",
       "      <th>Engine</th>\n",
       "      <th>values</th>\n",
       "      <th>Stage</th>\n",
       "    </tr>\n",
       "  </thead>\n",
       "  <tbody>\n",
       "    <tr>\n",
       "      <th>2</th>\n",
       "      <td>SSD-256</td>\n",
       "      <td>GPU</td>\n",
       "      <td>46.12000</td>\n",
       "      <td>Pre-processing</td>\n",
       "    </tr>\n",
       "    <tr>\n",
       "      <th>3</th>\n",
       "      <td>SSD-256</td>\n",
       "      <td>CPU</td>\n",
       "      <td>113.11299</td>\n",
       "      <td>Pre-processing</td>\n",
       "    </tr>\n",
       "    <tr>\n",
       "      <th>6</th>\n",
       "      <td>SSD-512</td>\n",
       "      <td>GPU</td>\n",
       "      <td>43.96000</td>\n",
       "      <td>Pre-processing</td>\n",
       "    </tr>\n",
       "    <tr>\n",
       "      <th>7</th>\n",
       "      <td>SSD-512</td>\n",
       "      <td>CPU</td>\n",
       "      <td>96.77946</td>\n",
       "      <td>Pre-processing</td>\n",
       "    </tr>\n",
       "    <tr>\n",
       "      <th>10</th>\n",
       "      <td>SSD-768</td>\n",
       "      <td>GPU</td>\n",
       "      <td>43.11000</td>\n",
       "      <td>Pre-processing</td>\n",
       "    </tr>\n",
       "    <tr>\n",
       "      <th>11</th>\n",
       "      <td>SSD-768</td>\n",
       "      <td>CPU</td>\n",
       "      <td>110.62485</td>\n",
       "      <td>Pre-processing</td>\n",
       "    </tr>\n",
       "    <tr>\n",
       "      <th>2</th>\n",
       "      <td>SSD-256</td>\n",
       "      <td>GPU</td>\n",
       "      <td>21.67000</td>\n",
       "      <td>Inference</td>\n",
       "    </tr>\n",
       "    <tr>\n",
       "      <th>3</th>\n",
       "      <td>SSD-256</td>\n",
       "      <td>CPU</td>\n",
       "      <td>122.87305</td>\n",
       "      <td>Inference</td>\n",
       "    </tr>\n",
       "    <tr>\n",
       "      <th>6</th>\n",
       "      <td>SSD-512</td>\n",
       "      <td>GPU</td>\n",
       "      <td>110.35000</td>\n",
       "      <td>Inference</td>\n",
       "    </tr>\n",
       "    <tr>\n",
       "      <th>7</th>\n",
       "      <td>SSD-512</td>\n",
       "      <td>CPU</td>\n",
       "      <td>350.84562</td>\n",
       "      <td>Inference</td>\n",
       "    </tr>\n",
       "    <tr>\n",
       "      <th>10</th>\n",
       "      <td>SSD-768</td>\n",
       "      <td>GPU</td>\n",
       "      <td>162.07000</td>\n",
       "      <td>Inference</td>\n",
       "    </tr>\n",
       "    <tr>\n",
       "      <th>11</th>\n",
       "      <td>SSD-768</td>\n",
       "      <td>CPU</td>\n",
       "      <td>860.35038</td>\n",
       "      <td>Inference</td>\n",
       "    </tr>\n",
       "    <tr>\n",
       "      <th>2</th>\n",
       "      <td>SSD-256</td>\n",
       "      <td>GPU</td>\n",
       "      <td>16.29000</td>\n",
       "      <td>Post-processing</td>\n",
       "    </tr>\n",
       "    <tr>\n",
       "      <th>3</th>\n",
       "      <td>SSD-256</td>\n",
       "      <td>CPU</td>\n",
       "      <td>21.07799</td>\n",
       "      <td>Post-processing</td>\n",
       "    </tr>\n",
       "    <tr>\n",
       "      <th>6</th>\n",
       "      <td>SSD-512</td>\n",
       "      <td>GPU</td>\n",
       "      <td>10.19000</td>\n",
       "      <td>Post-processing</td>\n",
       "    </tr>\n",
       "    <tr>\n",
       "      <th>7</th>\n",
       "      <td>SSD-512</td>\n",
       "      <td>CPU</td>\n",
       "      <td>6.93560</td>\n",
       "      <td>Post-processing</td>\n",
       "    </tr>\n",
       "    <tr>\n",
       "      <th>10</th>\n",
       "      <td>SSD-768</td>\n",
       "      <td>GPU</td>\n",
       "      <td>7.62000</td>\n",
       "      <td>Post-processing</td>\n",
       "    </tr>\n",
       "    <tr>\n",
       "      <th>11</th>\n",
       "      <td>SSD-768</td>\n",
       "      <td>CPU</td>\n",
       "      <td>16.10964</td>\n",
       "      <td>Post-processing</td>\n",
       "    </tr>\n",
       "  </tbody>\n",
       "</table>\n",
       "</div>"
      ],
      "text/plain": [
       "      Model Engine     values            Stage\n",
       "2   SSD-256    GPU   46.12000   Pre-processing\n",
       "3   SSD-256    CPU  113.11299   Pre-processing\n",
       "6   SSD-512    GPU   43.96000   Pre-processing\n",
       "7   SSD-512    CPU   96.77946   Pre-processing\n",
       "10  SSD-768    GPU   43.11000   Pre-processing\n",
       "11  SSD-768    CPU  110.62485   Pre-processing\n",
       "2   SSD-256    GPU   21.67000        Inference\n",
       "3   SSD-256    CPU  122.87305        Inference\n",
       "6   SSD-512    GPU  110.35000        Inference\n",
       "7   SSD-512    CPU  350.84562        Inference\n",
       "10  SSD-768    GPU  162.07000        Inference\n",
       "11  SSD-768    CPU  860.35038        Inference\n",
       "2   SSD-256    GPU   16.29000  Post-processing\n",
       "3   SSD-256    CPU   21.07799  Post-processing\n",
       "6   SSD-512    GPU   10.19000  Post-processing\n",
       "7   SSD-512    CPU    6.93560  Post-processing\n",
       "10  SSD-768    GPU    7.62000  Post-processing\n",
       "11  SSD-768    CPU   16.10964  Post-processing"
      ]
     },
     "execution_count": 69,
     "metadata": {},
     "output_type": "execute_result"
    }
   ],
   "source": [
    "df"
   ]
  },
  {
   "cell_type": "code",
   "execution_count": 74,
   "metadata": {},
   "outputs": [
    {
     "data": {
      "text/html": [
       "<div class=\"vega-embed\" id=\"97288d05-cb26-4a55-a1e2-415115c9fafe\"></div>\n",
       "\n",
       "<style>\n",
       ".vega-embed .vega-actions > a {\n",
       "    transition: opacity 200ms ease-in;\n",
       "    opacity: 0.3;\n",
       "    margin-right: 0.6em;\n",
       "    color: #444;\n",
       "    text-decoration: none;\n",
       "}\n",
       "\n",
       ".vega-embed .vega-actions > a:hover {\n",
       "    color: #000;\n",
       "    text-decoration: underline;\n",
       "}\n",
       "\n",
       ".vega-embed:hover .vega-actions > a {\n",
       "    opacity: 1;\n",
       "    transition: 0s;\n",
       "}\n",
       "\n",
       ".vega-embed .error p {\n",
       "    color: firebrick;\n",
       "    font-size: 1.2em;\n",
       "}\n",
       "</style>\n"
      ]
     },
     "metadata": {
      "jupyter-vega3": "#97288d05-cb26-4a55-a1e2-415115c9fafe"
     },
     "output_type": "execute_result"
    },
    {
     "data": {},
     "metadata": {
      "jupyter-vega3": "#97288d05-cb26-4a55-a1e2-415115c9fafe"
     },
     "output_type": "display_data"
    },
    {
     "data": {
      "text/plain": []
     },
     "execution_count": 74,
     "metadata": {},
     "output_type": "execute_result"
    },
    {
     "data": {
      "image/png": "[encoded data removed]"
     },
     "metadata": {
      "jupyter-vega3": "#97288d05-cb26-4a55-a1e2-415115c9fafe"
     },
     "output_type": "display_data"
    }
   ],
   "source": [
    "chart = alt.Chart(df).mark_bar(stroke='transparent').encode(\n",
    "\n",
    "    # tell Altair which field to group columns on\n",
    "    x=alt.X('Engine:N',\n",
    "            axis=alt.Axis(\n",
    "                grid=False,\n",
    "                title='')),\n",
    "\n",
    "    # tell Altair which field to use as Y values and how to calculate\n",
    "    y=alt.Y('values:Q',\n",
    "            axis=alt.Axis(\n",
    "                grid=False,\n",
    "                title='Execution Time (ms)')),\n",
    "\n",
    "    # tell Altair which field to use to use as the set of columns to be  represented in each group\n",
    "    column=alt.Column('Model:N'),\n",
    "\n",
    "    # tell Altair which field to use for color segmentation\n",
    "    color=alt.Color('Stage:N',\n",
    "                    scale=alt.Scale(\n",
    "                        # make it look pretty with an enjoyable color pallet\n",
    "#                         range=['#96ceb4', '#ffcc5c', '#ff6f69'],\n",
    "                    ),\n",
    "                   ))\n",
    "\n",
    "chart.configure_scale(rangeStep=45).configure_bar(orient='horizontal').configure_view(stroke='transparent')"
   ]
  },
  {
   "cell_type": "code",
   "execution_count": 35,
   "metadata": {},
   "outputs": [
    {
     "data": {
      "text/html": [
       "<div class=\"vega-embed\" id=\"13826e85-d2d9-42ac-8029-58a294e89f02\"></div>\n",
       "\n",
       "<style>\n",
       ".vega-embed .vega-actions > a {\n",
       "    transition: opacity 200ms ease-in;\n",
       "    opacity: 0.3;\n",
       "    margin-right: 0.6em;\n",
       "    color: #444;\n",
       "    text-decoration: none;\n",
       "}\n",
       "\n",
       ".vega-embed .vega-actions > a:hover {\n",
       "    color: #000;\n",
       "    text-decoration: underline;\n",
       "}\n",
       "\n",
       ".vega-embed:hover .vega-actions > a {\n",
       "    opacity: 1;\n",
       "    transition: 0s;\n",
       "}\n",
       "\n",
       ".vega-embed .error p {\n",
       "    color: firebrick;\n",
       "    font-size: 1.2em;\n",
       "}\n",
       "</style>\n"
      ]
     },
     "metadata": {
      "jupyter-vega3": "#13826e85-d2d9-42ac-8029-58a294e89f02"
     },
     "output_type": "execute_result"
    },
    {
     "data": {},
     "metadata": {
      "jupyter-vega3": "#13826e85-d2d9-42ac-8029-58a294e89f02"
     },
     "output_type": "display_data"
    },
    {
     "data": {
      "image/png": "[encoded data removed]"
     },
     "metadata": {
      "jupyter-vega3": "#13826e85-d2d9-42ac-8029-58a294e89f02"
     },
     "output_type": "display_data"
    },
    {
     "data": {
      "text/plain": []
     },
     "execution_count": 35,
     "metadata": {},
     "output_type": "execute_result"
    }
   ],
   "source": [
    "import altair as alt\n",
    "from vega_datasets import data\n",
    "alt.renderers.enable('notebook')\n",
    "\n",
    "# for the notebook only (not for JupyterLab) run this command once per session\n",
    "alt.renderers.enable('notebook')\n",
    "\n",
    "iris = data.iris()\n",
    "\n",
    "alt.Chart(df).mark_bar().encode(\n",
    "    x='c2',\n",
    "    y='values',\n",
    "    column='c1',\n",
    "    color='DF'\n",
    ")"
   ]
  },
  {
   "cell_type": "code",
   "execution_count": null,
   "metadata": {
    "collapsed": true
   },
   "outputs": [],
   "source": []
  },
  {
   "cell_type": "code",
   "execution_count": null,
   "metadata": {
    "collapsed": true
   },
   "outputs": [],
   "source": []
  }
 ],
 "metadata": {
  "kernelspec": {
   "display_name": "Python 3",
   "language": "python",
   "name": "python3"
  },
  "language_info": {
   "codemirror_mode": {
    "name": "ipython",
    "version": 3
   },
   "file_extension": ".py",
   "mimetype": "text/x-python",
   "name": "python",
   "nbconvert_exporter": "python",
   "pygments_lexer": "ipython3",
   "version": "3.5.4"
  }
 },
 "nbformat": 4,
 "nbformat_minor": 1
}
